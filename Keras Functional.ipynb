{
 "cells": [
  {
   "cell_type": "code",
   "execution_count": 7,
   "metadata": {},
   "outputs": [],
   "source": [
    "import numpy as np\n",
    "import matplotlib.pyplot as plt\n",
    "import pandas as pd\n",
    "from sklearn.model_selection import train_test_split\n",
    "\n",
    "import keras\n",
    "from keras.models import Model\n",
    "from keras.layers import Input, Dense, Activation\n",
    "from keras.utils import np_utils"
   ]
  },
  {
   "cell_type": "code",
   "execution_count": 8,
   "metadata": {},
   "outputs": [],
   "source": [
    "dataset = pd.read_csv('../datasets/fashion-mnist-test.csv')\n",
    "dataset = dataset.values"
   ]
  },
  {
   "cell_type": "code",
   "execution_count": 9,
   "metadata": {},
   "outputs": [],
   "source": [
    "X, y = dataset[:, 1:]/255, dataset[:, 0]\n",
    "X_train, X_test, y_train, y_test = train_test_split(X, y, test_size=0.2)"
   ]
  },
  {
   "cell_type": "code",
   "execution_count": 10,
   "metadata": {},
   "outputs": [],
   "source": [
    "y_train = np_utils.to_categorical(y_train)\n",
    "y_test  = np_utils.to_categorical(y_test)"
   ]
  },
  {
   "cell_type": "code",
   "execution_count": 11,
   "metadata": {},
   "outputs": [
    {
     "data": {
      "text/plain": [
       "((8000, 784), (2000, 784), (8000, 10), (2000, 10))"
      ]
     },
     "execution_count": 11,
     "metadata": {},
     "output_type": "execute_result"
    }
   ],
   "source": [
    "X_train.shape, X_test.shape, y_train.shape, y_test.shape"
   ]
  },
  {
   "cell_type": "markdown",
   "metadata": {},
   "source": [
    "### NN using Keras Functional API"
   ]
  },
  {
   "cell_type": "code",
   "execution_count": 37,
   "metadata": {},
   "outputs": [],
   "source": [
    "inp = Input(shape=(784,))\n",
    "fc1 = Dense(256, activation='sigmoid')(inp)\n",
    "fc2 = Dense( 64, activation='tanh')(fc1)\n",
    "out = Dense( 10, activation='softmax')(fc2)\n",
    "\n",
    "model = Model(inputs=inp, outputs=out)\n",
    "\n",
    "### VS ###\n",
    "# model = Sequential()\n",
    "\n",
    "# model.add(Dense(256, input_shape=(784,)))\n",
    "# model.add(Activation('sigmoid'))\n",
    "\n",
    "# model.add(Dense(64))\n",
    "# model.add(Activation('tanh'))\n",
    "\n",
    "# model.add(Dense(10))\n",
    "# model.add(Activation('softmax'))"
   ]
  },
  {
   "cell_type": "code",
   "execution_count": 38,
   "metadata": {},
   "outputs": [
    {
     "name": "stdout",
     "output_type": "stream",
     "text": [
      "_________________________________________________________________\n",
      "Layer (type)                 Output Shape              Param #   \n",
      "=================================================================\n",
      "input_2 (InputLayer)         (None, 784)               0         \n",
      "_________________________________________________________________\n",
      "dense_4 (Dense)              (None, 256)               200960    \n",
      "_________________________________________________________________\n",
      "dense_5 (Dense)              (None, 64)                16448     \n",
      "_________________________________________________________________\n",
      "dense_6 (Dense)              (None, 10)                650       \n",
      "=================================================================\n",
      "Total params: 218,058\n",
      "Trainable params: 218,058\n",
      "Non-trainable params: 0\n",
      "_________________________________________________________________\n"
     ]
    }
   ],
   "source": [
    "model.summary()"
   ]
  },
  {
   "cell_type": "code",
   "execution_count": 39,
   "metadata": {},
   "outputs": [],
   "source": [
    "# Initialize Weights\n",
    "model.compile(loss='categorical_crossentropy', optimizer='sgd', metrics=['accuracy'])"
   ]
  },
  {
   "cell_type": "code",
   "execution_count": 40,
   "metadata": {},
   "outputs": [
    {
     "name": "stdout",
     "output_type": "stream",
     "text": [
      "Train on 8000 samples, validate on 2000 samples\n",
      "Epoch 1/100\n",
      "8000/8000 [==============================] - 0s 30us/step - loss: 2.2682 - acc: 0.1340 - val_loss: 2.2058 - val_acc: 0.2605\n",
      "Epoch 2/100\n",
      "8000/8000 [==============================] - 0s 28us/step - loss: 2.1565 - acc: 0.3539 - val_loss: 2.1043 - val_acc: 0.3935\n",
      "Epoch 3/100\n",
      "8000/8000 [==============================] - 0s 26us/step - loss: 2.0517 - acc: 0.4514 - val_loss: 1.9982 - val_acc: 0.4490\n",
      "Epoch 4/100\n",
      "8000/8000 [==============================] - 0s 27us/step - loss: 1.9442 - acc: 0.4971 - val_loss: 1.8890 - val_acc: 0.5485\n",
      "Epoch 5/100\n",
      "8000/8000 [==============================] - 0s 31us/step - loss: 1.8355 - acc: 0.5554 - val_loss: 1.7833 - val_acc: 0.5575\n",
      "Epoch 6/100\n",
      "8000/8000 [==============================] - 0s 28us/step - loss: 1.7329 - acc: 0.5819 - val_loss: 1.6871 - val_acc: 0.6045\n",
      "Epoch 7/100\n",
      "8000/8000 [==============================] - 0s 28us/step - loss: 1.6382 - acc: 0.6166 - val_loss: 1.5983 - val_acc: 0.5965\n",
      "Epoch 8/100\n",
      "8000/8000 [==============================] - 0s 29us/step - loss: 1.5514 - acc: 0.6229 - val_loss: 1.5138 - val_acc: 0.6435\n",
      "Epoch 9/100\n",
      "8000/8000 [==============================] - 0s 28us/step - loss: 1.4733 - acc: 0.6441 - val_loss: 1.4418 - val_acc: 0.6585\n",
      "Epoch 10/100\n",
      "8000/8000 [==============================] - 0s 30us/step - loss: 1.4033 - acc: 0.6628 - val_loss: 1.3757 - val_acc: 0.6725\n",
      "Epoch 11/100\n",
      "8000/8000 [==============================] - 0s 37us/step - loss: 1.3410 - acc: 0.6743 - val_loss: 1.3156 - val_acc: 0.6820\n",
      "Epoch 12/100\n",
      "8000/8000 [==============================] - 0s 56us/step - loss: 1.2849 - acc: 0.6850 - val_loss: 1.2665 - val_acc: 0.6730\n",
      "Epoch 13/100\n",
      "8000/8000 [==============================] - 0s 28us/step - loss: 1.2358 - acc: 0.6895 - val_loss: 1.2202 - val_acc: 0.6830\n",
      "Epoch 14/100\n",
      "8000/8000 [==============================] - 0s 38us/step - loss: 1.1919 - acc: 0.6946 - val_loss: 1.1778 - val_acc: 0.7055\n",
      "Epoch 15/100\n",
      "8000/8000 [==============================] - 0s 57us/step - loss: 1.1524 - acc: 0.7073 - val_loss: 1.1395 - val_acc: 0.7045\n",
      "Epoch 16/100\n",
      "8000/8000 [==============================] - 0s 27us/step - loss: 1.1173 - acc: 0.7087 - val_loss: 1.1064 - val_acc: 0.7055\n",
      "Epoch 17/100\n",
      "8000/8000 [==============================] - 0s 28us/step - loss: 1.0861 - acc: 0.7156 - val_loss: 1.0775 - val_acc: 0.7010\n",
      "Epoch 18/100\n",
      "8000/8000 [==============================] - 0s 39us/step - loss: 1.0575 - acc: 0.7164 - val_loss: 1.0523 - val_acc: 0.7110\n",
      "Epoch 19/100\n",
      "8000/8000 [==============================] - 0s 56us/step - loss: 1.0315 - acc: 0.7220 - val_loss: 1.0280 - val_acc: 0.7100\n",
      "Epoch 20/100\n",
      "8000/8000 [==============================] - 0s 28us/step - loss: 1.0081 - acc: 0.7230 - val_loss: 1.0045 - val_acc: 0.7120\n",
      "Epoch 21/100\n",
      "8000/8000 [==============================] - 0s 30us/step - loss: 0.9867 - acc: 0.7249 - val_loss: 0.9853 - val_acc: 0.7155\n",
      "Epoch 22/100\n",
      "8000/8000 [==============================] - 0s 60us/step - loss: 0.9671 - acc: 0.7274 - val_loss: 0.9658 - val_acc: 0.7225\n",
      "Epoch 23/100\n",
      "8000/8000 [==============================] - 0s 32us/step - loss: 0.9487 - acc: 0.7270 - val_loss: 0.9479 - val_acc: 0.7215\n",
      "Epoch 24/100\n",
      "8000/8000 [==============================] - 0s 29us/step - loss: 0.9322 - acc: 0.7310 - val_loss: 0.9331 - val_acc: 0.7265\n",
      "Epoch 25/100\n",
      "8000/8000 [==============================] - 0s 36us/step - loss: 0.9166 - acc: 0.7318 - val_loss: 0.9183 - val_acc: 0.7290\n",
      "Epoch 26/100\n",
      "8000/8000 [==============================] - 0s 30us/step - loss: 0.9020 - acc: 0.7328 - val_loss: 0.9044 - val_acc: 0.7250\n",
      "Epoch 27/100\n",
      "8000/8000 [==============================] - 0s 28us/step - loss: 0.8887 - acc: 0.7348 - val_loss: 0.8901 - val_acc: 0.7285\n",
      "Epoch 28/100\n",
      "8000/8000 [==============================] - 0s 29us/step - loss: 0.8763 - acc: 0.7352 - val_loss: 0.8806 - val_acc: 0.7310\n",
      "Epoch 29/100\n",
      "8000/8000 [==============================] - 0s 61us/step - loss: 0.8641 - acc: 0.7365 - val_loss: 0.8678 - val_acc: 0.7310\n",
      "Epoch 30/100\n",
      "8000/8000 [==============================] - 0s 33us/step - loss: 0.8529 - acc: 0.7373 - val_loss: 0.8568 - val_acc: 0.7330\n",
      "Epoch 31/100\n",
      "8000/8000 [==============================] - 0s 54us/step - loss: 0.8427 - acc: 0.7399 - val_loss: 0.8484 - val_acc: 0.7320\n",
      "Epoch 32/100\n",
      "8000/8000 [==============================] - 0s 33us/step - loss: 0.8328 - acc: 0.7408 - val_loss: 0.8373 - val_acc: 0.7325\n",
      "Epoch 33/100\n",
      "8000/8000 [==============================] - 0s 55us/step - loss: 0.8234 - acc: 0.7416 - val_loss: 0.8292 - val_acc: 0.7365\n",
      "Epoch 34/100\n",
      "8000/8000 [==============================] - 0s 28us/step - loss: 0.8143 - acc: 0.7440 - val_loss: 0.8202 - val_acc: 0.7380\n",
      "Epoch 35/100\n",
      "8000/8000 [==============================] - 0s 29us/step - loss: 0.8063 - acc: 0.7454 - val_loss: 0.8121 - val_acc: 0.7435\n",
      "Epoch 36/100\n",
      "8000/8000 [==============================] - 0s 44us/step - loss: 0.7979 - acc: 0.7439 - val_loss: 0.8049 - val_acc: 0.7430\n",
      "Epoch 37/100\n",
      "8000/8000 [==============================] - 0s 37us/step - loss: 0.7905 - acc: 0.7439 - val_loss: 0.7978 - val_acc: 0.7450\n",
      "Epoch 38/100\n",
      "8000/8000 [==============================] - 0s 49us/step - loss: 0.7835 - acc: 0.7469 - val_loss: 0.7897 - val_acc: 0.7460\n",
      "Epoch 39/100\n",
      "8000/8000 [==============================] - 0s 30us/step - loss: 0.7762 - acc: 0.7481 - val_loss: 0.7842 - val_acc: 0.7480\n",
      "Epoch 40/100\n",
      "8000/8000 [==============================] - 0s 25us/step - loss: 0.7698 - acc: 0.7489 - val_loss: 0.7789 - val_acc: 0.7475\n",
      "Epoch 41/100\n",
      "8000/8000 [==============================] - 0s 29us/step - loss: 0.7633 - acc: 0.7489 - val_loss: 0.7710 - val_acc: 0.7455\n",
      "Epoch 42/100\n",
      "8000/8000 [==============================] - 0s 34us/step - loss: 0.7572 - acc: 0.7515 - val_loss: 0.7658 - val_acc: 0.7480\n",
      "Epoch 43/100\n",
      "8000/8000 [==============================] - 0s 25us/step - loss: 0.7517 - acc: 0.7518 - val_loss: 0.7596 - val_acc: 0.7510\n",
      "Epoch 44/100\n",
      "8000/8000 [==============================] - 1s 76us/step - loss: 0.7458 - acc: 0.7537 - val_loss: 0.7570 - val_acc: 0.7445\n",
      "Epoch 45/100\n",
      "8000/8000 [==============================] - 0s 25us/step - loss: 0.7405 - acc: 0.7546 - val_loss: 0.7498 - val_acc: 0.7510\n",
      "Epoch 46/100\n",
      "8000/8000 [==============================] - 0s 47us/step - loss: 0.7354 - acc: 0.7559 - val_loss: 0.7436 - val_acc: 0.7490\n",
      "Epoch 47/100\n",
      "8000/8000 [==============================] - 0s 28us/step - loss: 0.7305 - acc: 0.7565 - val_loss: 0.7429 - val_acc: 0.7460\n",
      "Epoch 48/100\n",
      "8000/8000 [==============================] - 0s 51us/step - loss: 0.7259 - acc: 0.7578 - val_loss: 0.7370 - val_acc: 0.7515\n",
      "Epoch 49/100\n",
      "8000/8000 [==============================] - 0s 25us/step - loss: 0.7211 - acc: 0.7555 - val_loss: 0.7330 - val_acc: 0.7525\n",
      "Epoch 50/100\n",
      "8000/8000 [==============================] - 0s 54us/step - loss: 0.7166 - acc: 0.7582 - val_loss: 0.7276 - val_acc: 0.7570\n",
      "Epoch 51/100\n",
      "8000/8000 [==============================] - 0s 43us/step - loss: 0.7125 - acc: 0.7570 - val_loss: 0.7225 - val_acc: 0.7570\n",
      "Epoch 52/100\n",
      "8000/8000 [==============================] - 0s 30us/step - loss: 0.7079 - acc: 0.7600 - val_loss: 0.7213 - val_acc: 0.7555\n",
      "Epoch 53/100\n",
      "8000/8000 [==============================] - 0s 36us/step - loss: 0.7039 - acc: 0.7611 - val_loss: 0.7148 - val_acc: 0.7565\n",
      "Epoch 54/100\n",
      "8000/8000 [==============================] - 0s 46us/step - loss: 0.7001 - acc: 0.7604 - val_loss: 0.7122 - val_acc: 0.7540\n",
      "Epoch 55/100\n",
      "8000/8000 [==============================] - 0s 53us/step - loss: 0.6962 - acc: 0.7605 - val_loss: 0.7092 - val_acc: 0.7610\n",
      "Epoch 56/100\n",
      "8000/8000 [==============================] - 0s 52us/step - loss: 0.6926 - acc: 0.7635 - val_loss: 0.7049 - val_acc: 0.7605\n",
      "Epoch 57/100\n",
      "8000/8000 [==============================] - 0s 54us/step - loss: 0.6891 - acc: 0.7631 - val_loss: 0.7025 - val_acc: 0.7600\n",
      "Epoch 58/100\n",
      "8000/8000 [==============================] - 0s 28us/step - loss: 0.6854 - acc: 0.7659 - val_loss: 0.6982 - val_acc: 0.7605\n",
      "Epoch 59/100\n",
      "8000/8000 [==============================] - 0s 32us/step - loss: 0.6819 - acc: 0.7644 - val_loss: 0.6945 - val_acc: 0.7620\n",
      "Epoch 60/100\n"
     ]
    },
    {
     "name": "stdout",
     "output_type": "stream",
     "text": [
      "8000/8000 [==============================] - 0s 36us/step - loss: 0.6786 - acc: 0.7651 - val_loss: 0.6916 - val_acc: 0.7640\n",
      "Epoch 61/100\n",
      "8000/8000 [==============================] - 0s 30us/step - loss: 0.6752 - acc: 0.7664 - val_loss: 0.6895 - val_acc: 0.7620\n",
      "Epoch 62/100\n",
      "8000/8000 [==============================] - 0s 49us/step - loss: 0.6724 - acc: 0.7644 - val_loss: 0.6854 - val_acc: 0.7615\n",
      "Epoch 63/100\n",
      "8000/8000 [==============================] - 0s 26us/step - loss: 0.6693 - acc: 0.7691 - val_loss: 0.6833 - val_acc: 0.7625\n",
      "Epoch 64/100\n",
      "8000/8000 [==============================] - 0s 46us/step - loss: 0.6663 - acc: 0.7676 - val_loss: 0.6802 - val_acc: 0.7660\n",
      "Epoch 65/100\n",
      "8000/8000 [==============================] - 0s 37us/step - loss: 0.6632 - acc: 0.7685 - val_loss: 0.6796 - val_acc: 0.7640\n",
      "Epoch 66/100\n",
      "8000/8000 [==============================] - 1s 63us/step - loss: 0.6606 - acc: 0.7705 - val_loss: 0.6748 - val_acc: 0.7675\n",
      "Epoch 67/100\n",
      "8000/8000 [==============================] - 0s 59us/step - loss: 0.6578 - acc: 0.7708 - val_loss: 0.6721 - val_acc: 0.7695\n",
      "Epoch 68/100\n",
      "8000/8000 [==============================] - 0s 25us/step - loss: 0.6550 - acc: 0.7708 - val_loss: 0.6710 - val_acc: 0.7630\n",
      "Epoch 69/100\n",
      "8000/8000 [==============================] - 0s 24us/step - loss: 0.6524 - acc: 0.7728 - val_loss: 0.6681 - val_acc: 0.7660\n",
      "Epoch 70/100\n",
      "8000/8000 [==============================] - 0s 27us/step - loss: 0.6500 - acc: 0.7716 - val_loss: 0.6655 - val_acc: 0.7665\n",
      "Epoch 71/100\n",
      "8000/8000 [==============================] - 0s 29us/step - loss: 0.6473 - acc: 0.7740 - val_loss: 0.6657 - val_acc: 0.7665\n",
      "Epoch 72/100\n",
      "8000/8000 [==============================] - 0s 26us/step - loss: 0.6450 - acc: 0.7760 - val_loss: 0.6603 - val_acc: 0.7685\n",
      "Epoch 73/100\n",
      "8000/8000 [==============================] - 0s 28us/step - loss: 0.6423 - acc: 0.7772 - val_loss: 0.6578 - val_acc: 0.7725\n",
      "Epoch 74/100\n",
      "8000/8000 [==============================] - 0s 28us/step - loss: 0.6399 - acc: 0.7756 - val_loss: 0.6563 - val_acc: 0.7735\n",
      "Epoch 75/100\n",
      "8000/8000 [==============================] - 0s 24us/step - loss: 0.6377 - acc: 0.7769 - val_loss: 0.6521 - val_acc: 0.7680\n",
      "Epoch 76/100\n",
      "8000/8000 [==============================] - 0s 26us/step - loss: 0.6353 - acc: 0.7774 - val_loss: 0.6534 - val_acc: 0.7680\n",
      "Epoch 77/100\n",
      "8000/8000 [==============================] - 0s 29us/step - loss: 0.6329 - acc: 0.7772 - val_loss: 0.6475 - val_acc: 0.7755\n",
      "Epoch 78/100\n",
      "8000/8000 [==============================] - 0s 25us/step - loss: 0.6303 - acc: 0.7802 - val_loss: 0.6498 - val_acc: 0.7680\n",
      "Epoch 79/100\n",
      "8000/8000 [==============================] - 0s 25us/step - loss: 0.6285 - acc: 0.7791 - val_loss: 0.6452 - val_acc: 0.7745\n",
      "Epoch 80/100\n",
      "8000/8000 [==============================] - 0s 25us/step - loss: 0.6263 - acc: 0.7811 - val_loss: 0.6434 - val_acc: 0.7770\n",
      "Epoch 81/100\n",
      "8000/8000 [==============================] - 0s 25us/step - loss: 0.6243 - acc: 0.7811 - val_loss: 0.6421 - val_acc: 0.7750\n",
      "Epoch 82/100\n",
      "8000/8000 [==============================] - 0s 25us/step - loss: 0.6219 - acc: 0.7810 - val_loss: 0.6383 - val_acc: 0.7740\n",
      "Epoch 83/100\n",
      "8000/8000 [==============================] - 0s 25us/step - loss: 0.6200 - acc: 0.7841 - val_loss: 0.6371 - val_acc: 0.7735\n",
      "Epoch 84/100\n",
      "8000/8000 [==============================] - 0s 25us/step - loss: 0.6181 - acc: 0.7835 - val_loss: 0.6376 - val_acc: 0.7765\n",
      "Epoch 85/100\n",
      "8000/8000 [==============================] - 0s 25us/step - loss: 0.6159 - acc: 0.7837 - val_loss: 0.6359 - val_acc: 0.7760\n",
      "Epoch 86/100\n",
      "8000/8000 [==============================] - 0s 26us/step - loss: 0.6140 - acc: 0.7844 - val_loss: 0.6320 - val_acc: 0.7785\n",
      "Epoch 87/100\n",
      "8000/8000 [==============================] - 0s 28us/step - loss: 0.6119 - acc: 0.7871 - val_loss: 0.6294 - val_acc: 0.7790\n",
      "Epoch 88/100\n",
      "8000/8000 [==============================] - 0s 25us/step - loss: 0.6103 - acc: 0.7861 - val_loss: 0.6297 - val_acc: 0.7780\n",
      "Epoch 89/100\n",
      "8000/8000 [==============================] - 0s 28us/step - loss: 0.6086 - acc: 0.7876 - val_loss: 0.6300 - val_acc: 0.7730\n",
      "Epoch 90/100\n",
      "8000/8000 [==============================] - 0s 27us/step - loss: 0.6066 - acc: 0.7869 - val_loss: 0.6279 - val_acc: 0.7755\n",
      "Epoch 91/100\n",
      "8000/8000 [==============================] - 0s 25us/step - loss: 0.6046 - acc: 0.7887 - val_loss: 0.6244 - val_acc: 0.7795\n",
      "Epoch 92/100\n",
      "8000/8000 [==============================] - 0s 25us/step - loss: 0.6027 - acc: 0.7886 - val_loss: 0.6235 - val_acc: 0.7810\n",
      "Epoch 93/100\n",
      "8000/8000 [==============================] - 0s 26us/step - loss: 0.6011 - acc: 0.7909 - val_loss: 0.6189 - val_acc: 0.7820\n",
      "Epoch 94/100\n",
      "8000/8000 [==============================] - 0s 26us/step - loss: 0.5994 - acc: 0.7913 - val_loss: 0.6186 - val_acc: 0.7800\n",
      "Epoch 95/100\n",
      "8000/8000 [==============================] - 0s 28us/step - loss: 0.5975 - acc: 0.7903 - val_loss: 0.6167 - val_acc: 0.7770\n",
      "Epoch 96/100\n",
      "8000/8000 [==============================] - 0s 27us/step - loss: 0.5960 - acc: 0.7911 - val_loss: 0.6147 - val_acc: 0.7805\n",
      "Epoch 97/100\n",
      "8000/8000 [==============================] - 0s 25us/step - loss: 0.5942 - acc: 0.7917 - val_loss: 0.6153 - val_acc: 0.7830\n",
      "Epoch 98/100\n",
      "8000/8000 [==============================] - 0s 31us/step - loss: 0.5927 - acc: 0.7933 - val_loss: 0.6130 - val_acc: 0.7820\n",
      "Epoch 99/100\n",
      "8000/8000 [==============================] - 0s 28us/step - loss: 0.5909 - acc: 0.7953 - val_loss: 0.6111 - val_acc: 0.7790\n",
      "Epoch 100/100\n",
      "8000/8000 [==============================] - 0s 27us/step - loss: 0.5893 - acc: 0.7940 - val_loss: 0.6118 - val_acc: 0.7850\n"
     ]
    }
   ],
   "source": [
    "hist = model.fit(X_train, y_train,\n",
    "          shuffle=True,\n",
    "          epochs=100,\n",
    "          batch_size=256,\n",
    "          validation_data=(X_test, y_test)\n",
    "         )"
   ]
  },
  {
   "cell_type": "code",
   "execution_count": 36,
   "metadata": {},
   "outputs": [
    {
     "data": {
      "image/png": "[encoded data removed]",
      "text/plain": [
       "<Figure size 432x288 with 1 Axes>"
      ]
     },
     "metadata": {
      "needs_background": "light"
     },
     "output_type": "display_data"
    },
    {
     "data": {
      "image/png": "[encoded data removed]",
      "text/plain": [
       "<Figure size 432x288 with 1 Axes>"
      ]
     },
     "metadata": {
      "needs_background": "light"
     },
     "output_type": "display_data"
    }
   ],
   "source": [
    "plt.figure(0)\n",
    "plt.title(\"Loss\")\n",
    "plt.plot(hist.history['loss'], 'r', label='Training')\n",
    "plt.plot(hist.history['val_loss'], 'b', label='Testing')\n",
    "plt.legend()\n",
    "plt.show()\n",
    "\n",
    "plt.figure(1)\n",
    "plt.title(\"Accuracy\")\n",
    "plt.plot(hist.history['acc'], 'r', label='Training')\n",
    "plt.plot(hist.history['val_acc'], 'b', label='Testing')\n",
    "plt.legend()\n",
    "plt.show()"
   ]
  },
  {
   "cell_type": "code",
   "execution_count": 28,
   "metadata": {},
   "outputs": [],
   "source": [
    "# class MyLayer:\n",
    "#     def __init__(self, n, activation=None):\n",
    "#         self.neurons = n\n",
    "#         self.activation = activation\n",
    "#         self.next = None\n",
    "        \n",
    "#     def __call__(self, tensor):\n",
    "#         print(\"I have been called\")\n",
    "#         self.next = tensor\n",
    "        \n",
    "# l1 = MyLayer(256, activation='sigmoid')\n",
    "# print(l1.neurons, l1.activation)\n",
    "# l1(1)"
   ]
  },
  {
   "cell_type": "code",
   "execution_count": null,
   "metadata": {},
   "outputs": [],
   "source": []
  }
 ],
 "metadata": {
  "kernelspec": {
   "display_name": "Python 3",
   "language": "python",
   "name": "python3"
  },
  "language_info": {
   "codemirror_mode": {
    "name": "ipython",
    "version": 3
   },
   "file_extension": ".py",
   "mimetype": "text/x-python",
   "name": "python",
   "nbconvert_exporter": "python",
   "pygments_lexer": "ipython3",
   "version": "3.7.0"
  }
 },
 "nbformat": 4,
 "nbformat_minor": 2
}
